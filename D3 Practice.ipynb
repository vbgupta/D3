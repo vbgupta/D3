{
 "cells": [
  {
   "cell_type": "markdown",
   "metadata": {},
   "source": [
    "# Learning D3\n",
    "\n",
    "#### By ~ Vaibhav Gupta"
   ]
  },
  {
   "cell_type": "code",
   "execution_count": 1,
   "metadata": {},
   "outputs": [
    {
     "data": {
      "application/javascript": [
       "\n",
       "    require.config({\n",
       "      paths: {\n",
       "        d3: \"https://d3js.org/d3.v6.min\"\n",
       "      }\n",
       "    })"
      ],
      "text/plain": [
       "<IPython.core.display.Javascript object>"
      ]
     },
     "metadata": {},
     "output_type": "display_data"
    }
   ],
   "source": [
    "from IPython.display import HTML, Javascript, display\n",
    "\n",
    "def configure_d3():\n",
    "    display(Javascript(\"\"\"\n",
    "    require.config({\n",
    "      paths: {\n",
    "        d3: \"https://d3js.org/d3.v6.min\"\n",
    "      }\n",
    "    })\"\"\"))\n",
    "\n",
    "\n",
    "configure_d3()"
   ]
  },
  {
   "cell_type": "code",
   "execution_count": 2,
   "metadata": {},
   "outputs": [
    {
     "data": {
      "text/html": [
       "<div id=\"testing\"></div>\n",
       "\n",
       "<script type=\"text/javascript\">   \n",
       "require(['d3'], function (d3) {\n",
       "    const width = 300\n",
       "    const height = 300\n",
       "    \n",
       "    var svg = d3.select(\"div#testing\").append(\"svg\")\n",
       "        .attr(\"width\", width)\n",
       "        .attr(\"height\", height)\n",
       "\n",
       "    var circle = svg.append(\"circle\")\n",
       "        .attr(\"cx\", 150)\n",
       "        .attr(\"cy\", 100)\n",
       "        .attr(\"r\", 40)\n",
       "        .attr(\"fill\", \"blue\")\n",
       "        .attr(\"stroke\", \"black\")\n",
       "    \n",
       "    var circle = svg.append(\"circle\")\n",
       "        .attr(\"cx\", 250)\n",
       "        .attr(\"cy\", 200)\n",
       "        .attr(\"r\", 40)\n",
       "        .attr(\"fill\", \"green\")\n",
       "        .attr(\"stroke\", \"black\")\n",
       "    \n",
       "    var circle = svg.append(\"circle\")\n",
       "        .attr(\"cx\", 50)\n",
       "        .attr(\"cy\", 200)\n",
       "        .attr(\"r\", 40)\n",
       "        .attr(\"fill\", \"yellow\")\n",
       "        .attr(\"stroke\", \"black\")\n",
       "    \n",
       "\n",
       "\n",
       "});\n",
       "</script>\n"
      ],
      "text/plain": [
       "<IPython.core.display.HTML object>"
      ]
     },
     "metadata": {},
     "output_type": "display_data"
    }
   ],
   "source": [
    "%%html\n",
    "<div id=\"testing\"></div>\n",
    "\n",
    "<script type=\"text/javascript\">   \n",
    "require(['d3'], function (d3) {\n",
    "    const width = 300\n",
    "    const height = 300\n",
    "    \n",
    "    var svg = d3.select(\"div#testing\").append(\"svg\")\n",
    "        .attr(\"width\", width)\n",
    "        .attr(\"height\", height)\n",
    "\n",
    "    var circle = svg.append(\"circle\")\n",
    "        .attr(\"cx\", 150)\n",
    "        .attr(\"cy\", 100)\n",
    "        .attr(\"r\", 40)\n",
    "        .attr(\"fill\", \"blue\")\n",
    "        .attr(\"stroke\", \"black\")\n",
    "    \n",
    "    var circle = svg.append(\"circle\")\n",
    "        .attr(\"cx\", 250)\n",
    "        .attr(\"cy\", 200)\n",
    "        .attr(\"r\", 40)\n",
    "        .attr(\"fill\", \"green\")\n",
    "        .attr(\"stroke\", \"black\")\n",
    "    \n",
    "    var circle = svg.append(\"circle\")\n",
    "        .attr(\"cx\", 50)\n",
    "        .attr(\"cy\", 200)\n",
    "        .attr(\"r\", 40)\n",
    "        .attr(\"fill\", \"yellow\")\n",
    "        .attr(\"stroke\", \"black\")\n",
    "    \n",
    "\n",
    "\n",
    "});\n",
    "</script>"
   ]
  },
  {
   "cell_type": "code",
   "execution_count": null,
   "metadata": {},
   "outputs": [],
   "source": []
  },
  {
   "cell_type": "code",
   "execution_count": null,
   "metadata": {},
   "outputs": [],
   "source": []
  }
 ],
 "metadata": {
  "kernelspec": {
   "display_name": "Python 3",
   "language": "python",
   "name": "python3"
  },
  "language_info": {
   "codemirror_mode": {
    "name": "ipython",
    "version": 3
   },
   "file_extension": ".py",
   "mimetype": "text/x-python",
   "name": "python",
   "nbconvert_exporter": "python",
   "pygments_lexer": "ipython3",
   "version": "3.8.5"
  }
 },
 "nbformat": 4,
 "nbformat_minor": 4
}
